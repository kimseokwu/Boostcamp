{
 "cells": [
  {
   "cell_type": "markdown",
   "metadata": {},
   "source": [
    "# 시퀀스 데이터 이해하기\n",
    "\n",
    "- 소리, 문자열, 주가 등의 데이터를 시퀀스(Sequence) 데이터로 분류합니다. 시계열 데이터는 시간순서에 따라 나열된 데이터로 시퀀스 데이터에 속한다.\n",
    "\n",
    "- 시퀀스 데이터는 독립동등분포(i.i.d) 가정을 잘 위배하기 때문에 순서를 바꾸거나 과거 정보에 손실이 발생하면 데이터의 확률분포도 바뀌게 됩니다. 과거 정보 또는 앞 뒤 맥락 없이 미래를 예측하거나 문장을 완성하는 건 불가능하다.\n",
    "\n",
    "# 시퀀스 데이터를 어떻게 다루나요?\n",
    "\n",
    "- 이제 시퀀스의 정보를 가지고 앞으로 발생할 데이터의 확률분포를 다루기 위해 조건부 확률을 이용할 수 있습니다.\n",
    "\n",
    "$$\n",
    "\\begin{align}\n",
    "P(X_1, \\dots ,X_t) = P(X_t|X_1, \\dots ,X_{t-1})P(X_!,  \\dots X{t-1}) \\\\\n",
    "= \\prod_{s=1}^{t}P(X_S | X_{S-1}, \\dots ,X_1)\n",
    "\\end{align}\n",
    "$$\n",
    "\n",
    " - 위 조건부 확률은 과거의 모든 정보를 사용하지만 시퀀스 데이터를 분석할 때 모든 과거 정보들이 필요한 것은 아닙니다.\n",
    " \n",
    " - 시퀀스 데이터를 다루기 위해선 길이가 가변적인 데이터를 다룰 수 있는 모델이 필요합니다.\n",
    " \n",
    " - 고정된 길이 만큼의 시퀀스만 사용하는 경우 AR(Autoregressive model) 자기회귀모델이라고 부릅니다.\n",
    " \n",
    " - 또 다른 방법은 바로 이전 정보를 제외한 나머지 정보들을 $H_t$라는 잠재변수로 인코딩해서 활용하는 잠재 AR 모델입니다.\n",
    " \n",
    " - 잠재변수 $H_t$를 신경망을 통해 반복해서 사용하여 시퀀스 데이터의 패턴을 학습하는 모델이 RNN 입니다.\n",
    " \n",
    " \n",
    "# Recurrent Neural Network을 이해하기\n",
    "\n",
    "- 가장 기본적인 RNN 모형은 MLP와 유사한 모양입니다. $W^{(1)}, W^{(2)}$는 시퀀스와 상관없이 불변인 행렬입니다.\n",
    "\n",
    "$$\n",
    "O = HW^{(2)} + b^{(2)} \\\\\n",
    "H = \\sigma (XW^{(1)} + b^{(1)})\n",
    "$$\n",
    "\n",
    "- RNN은 이전 순서의 잠재변수와 현재의 입력을 활용하여 모델링 합니다. 잠재변수인 $H_t$를 복제해서 다음 순서의 잠재변수를 인코딩하는데 사용합니다.\n",
    "\n",
    "$$\n",
    "O_t = HW^{(2)} + b^{(2)} \\\\\n",
    "H_t = \\sigma (X_{t}W^{(1)}_{X} + H_{t-1}W^{(1)}_{H} + b^{(1)})\n",
    "$$\n",
    "\n",
    "- RNN의 역전파는 잠재변수의 연결그래프에 따라 순차적으로 계산합니다. 이를 Backpropagation Through Time 이라 하며 RNN의 역전파 방법입니다.\n",
    "\n",
    "# 기울기 소실의 해결책?\n",
    "\n",
    "- 시퀀스의 길이가 길어지는 경우 BPTT를 통한 역전파 알고리즘의 계산이 불안정해지므로 길이를 끊는 것이 중요합니다. 이를 truncated BPTT라 부릅니다.\n",
    "\n",
    "- 그래디언트 벡터를 모든 t시점에서 전달 받지 않고 특정 블럭에서 끊는 것\n",
    "\n",
    "- 이런 문제들 때문에 Vanilla RNN은 길이가 긴 시퀀스를 처리하는 데 문제가 있습니다. 이를 해결하기 위해 등장한 RNN 네트워크가 LSTM과 GRU입니다."
   ]
  },
  {
   "cell_type": "code",
   "execution_count": null,
   "metadata": {},
   "outputs": [],
   "source": []
  }
 ],
 "metadata": {
  "kernelspec": {
   "display_name": "Python 3",
   "language": "python",
   "name": "python3"
  },
  "language_info": {
   "codemirror_mode": {
    "name": "ipython",
    "version": 3
   },
   "file_extension": ".py",
   "mimetype": "text/x-python",
   "name": "python",
   "nbconvert_exporter": "python",
   "pygments_lexer": "ipython3",
   "version": "3.7.0"
  }
 },
 "nbformat": 4,
 "nbformat_minor": 2
}
