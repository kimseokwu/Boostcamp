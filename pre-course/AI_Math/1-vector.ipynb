{
 "cells": [
  {
   "cell_type": "markdown",
   "metadata": {},
   "source": [
    "# 벡터가 뭔가요?\n",
    "\n",
    "- 벡터는 숫자를 원소로 가지는 리스트(list) 또는 배열(array)입니다."
   ]
  },
  {
   "cell_type": "code",
   "execution_count": 2,
   "metadata": {},
   "outputs": [],
   "source": [
    "import numpy as np\n",
    "x = [1, 7, 2]\n",
    "x = np.array([1, 7, 2])"
   ]
  },
  {
   "cell_type": "markdown",
   "metadata": {},
   "source": [
    "- 행벡터: 가로로 배열, 열벡터: 세로로 배열\n",
    "\n",
    "- 벡터의 차원: 벡터 안 숫자의 갯수\n",
    "\n",
    "- 벡터는 공간에서 한 점을 나타냅니다.\n",
    "\n",
    "- 벡터는 원점으로부터 상대적 위치를 표현합니다.\n",
    "\n",
    "- 벡터에 숫자를 곱해주면 길이만 변합니다. (스칼라 곱)\n",
    "\n",
    "- 벡터끼리 같은 모양을 가지면 덧셈, 뺄셈을 계산할 수 있습니다.\n",
    "\n",
    "- 벡터가 같은 모양을 가지면 성분곱(hadamard product)을 계산할 수 있다.\n",
    "\n",
    "$$\n",
    "\\vec{x} = \\begin{bmatrix}x_1\\\\x_2\\\\\\vdots\\\\x_d \\end{bmatrix}\\quad\\vec{y} =\\begin{bmatrix}y_1\\\\y_2\\\\\\vdots\\\\y_d \\end{bmatrix}\\quad\\vec{x}\\odot\\vec{y} = \\begin{bmatrix}x_1y_1\\\\x_2y_2\\\\\\vdots\\\\x_dy_d\\\\ \\end{bmatrix}\n",
    "$$\n",
    "\t\t\t\t\t"
   ]
  },
  {
   "cell_type": "code",
   "execution_count": 3,
   "metadata": {},
   "outputs": [
    {
     "name": "stdout",
     "output_type": "stream",
     "text": [
      "[6 9 3]\n",
      "[-4  5  1]\n",
      "[ 5 14  2]\n"
     ]
    }
   ],
   "source": [
    "import numpy as np\n",
    "x = np.array([1, 7, 2])\n",
    "y = np.array([5, 2, 1])\n",
    "\n",
    "print(x + y)\n",
    "print(x - y)\n",
    "print(x * y)"
   ]
  },
  {
   "cell_type": "markdown",
   "metadata": {},
   "source": [
    "__벡터의 노름 구해보기__\n",
    "\n",
    "- 벡터의 노름(norm)은 원점에서부터의 거리를 말합니다.\n",
    "- 임의의 차원 d에 대해 성립\n",
    "- L1 노름은 각 성분의 변화량의 절대값을 모두 더합니다.\n",
    "- L2 노름은 피타고라스 정리를 이용해 유클리드 거리를 계산합니다.\n",
    "\n",
    "$$\n",
    "\\vec{x} =\\begin{bmatrix} x_1\\\\x_2\\\\\\vdots\\\\x_d \\end{bmatrix}\\quad\\Vert\\vec{x}\\Vert_1 = \\sum_{i=1}^{d} \\vert x_i\\vert\\quad\\Vert\\vec{x}\\Vert_2 = \\sqrt{\\sum_{i=1}^{d} \\vert x_i\\vert^2}\n",
    "$$\n",
    "\t\t\t\t\t"
   ]
  },
  {
   "cell_type": "code",
   "execution_count": 4,
   "metadata": {},
   "outputs": [],
   "source": [
    "def l1_norm(x):\n",
    "    x_norm = np.abs(x)\n",
    "    x_norm = np.sum(x_norm)\n",
    "    return x_norm\n",
    "\n",
    "def l2_norm(x):\n",
    "    x_norm = x * x\n",
    "    x_norm = np.sum(x_norm)\n",
    "    x_norm = np.sqrt(x_norm)\n",
    "    return x_norm\n",
    "\n",
    "#l2-norm은 np.linalg.norm을 이용해도 구현 가능하다."
   ]
  },
  {
   "cell_type": "markdown",
   "metadata": {},
   "source": [
    "__왜 다른 노름을 소개하나요?__\n",
    "\n",
    "- 노름의 종류에 따라 기하학적 성질이 달라집니다.\n",
    "- 머신러닝에선 각 성질이 필요할 때가 있으므로 둘 다 사용합니다.\n",
    "\n",
    "\n",
    "\n",
    "__두 벡터 사이의 거리를 구해보자!__\n",
    "\n",
    "- l1, l2 노름을 이용해 두 벡터 사이의 거리를 계산할 수 있습니다.\n",
    "- 두 벡터 사이의 거리를 계산할 때는 벡터의 뺄셈을 이용합니다.\n",
    "- 뺄셈을 거꾸로 해도 거리는 같습니다.\n",
    "\n",
    "$$\n",
    "\\Vert\\vec{x} - \\vec{y}\\Vert = \\Vert\\vec{y} - \\vec{x}\\Vert\n",
    "$$\n",
    "\n",
    "__두 벡터 사이의 각도 구해보기__\n",
    "\n",
    "- 두 벡터 사이의 거리를 이용하여 각도도 계산해 볼 수 있을까?\n",
    "- 제2 코사인 법칙에 의해 두 벡터 사이의 각도를 계산할 수 있다.\n",
    "- 분자를 쉽게 계산하는 방법이 내적이다.\n",
    "- 내적은 np.inner를 이용해서 계산한다.\n",
    "\n",
    "$$\n",
    "cos\\theta = \\frac{<\\vec{x}, \\vec{y}>}{\\Vert\\vec{x}\\Vert\\Vert\\vec{y}\\Vert}\n",
    "\\quad\n",
    "<\\vec{x}, \\vec{y}> = \\sum_{i=1}^{d}x_iy_i\n",
    "$$\n",
    "\n",
    "__내적은 어떻게 해석할까?__\n",
    "\n",
    "- 내적은 정사영(orthogonal projection vector)된 벡터의 길이와 관련이 있다.\n",
    "- 내적은 정사영 길이를 벡터 y의 길이만큼 조정한 값이다"
   ]
  },
  {
   "cell_type": "code",
   "execution_count": null,
   "metadata": {},
   "outputs": [],
   "source": []
  }
 ],
 "metadata": {
  "kernelspec": {
   "display_name": "Python 3",
   "language": "python",
   "name": "python3"
  },
  "language_info": {
   "codemirror_mode": {
    "name": "ipython",
    "version": 3
   },
   "file_extension": ".py",
   "mimetype": "text/x-python",
   "name": "python",
   "nbconvert_exporter": "python",
   "pygments_lexer": "ipython3",
   "version": "3.7.0"
  }
 },
 "nbformat": 4,
 "nbformat_minor": 2
}
