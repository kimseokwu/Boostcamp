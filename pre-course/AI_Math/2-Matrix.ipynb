{
 "cells": [
  {
   "cell_type": "markdown",
   "metadata": {},
   "source": [
    "# 행렬은 뭔가요?\n",
    "\n",
    "- 행렬(matrix)은 벡터를 원소로 가지는 2차원 배열입니다.\n",
    "\n",
    "$$\n",
    "X = \\begin{bmatrix}1&-2&3\\\\7&5&0\\\\-2&-1&2\\\\ \\end{bmatrix}\n",
    "$$\n",
    "\n",
    "- numpy에선 행(row)이 기본 단위입니다.\n",
    "\n",
    "```python\n",
    "x = np.array([[1, -2, 3],\n",
    "              [7, 5, 0],\n",
    "              [-2, -1, 2]])\n",
    "```\n",
    "- 행렬은 행(row)과 열(column)이라는 인덱스(index)를 가집니다\n",
    "\n",
    "- $X = (x_{ij})$ 와 같이 표기하기도 합니다.\n",
    "- 행렬의 특정 행(열)을 고정하면 행(열)벡터라고 부릅니다.\n",
    "\n",
    "__전치행렬__\n",
    "\n",
    "- transpose matrix\n",
    "- 행과 열의 인덱스가 바뀐 행렬\n",
    "- $X^T = (x_{ji})$\n",
    "\n",
    "__행렬을 이해하는 방법 1__\n",
    "- 벡터가 공간에서 한 점을 의미한다면 행렬은 여러 점들을 나타냅니다.\n",
    "- 행렬의 행벡터 $x_i$는 $i$번째 데이터를 의미합니다.\n",
    "- 행렬의 $x_{ij}$는 $i$번째 데이터의 $j$번째 변수의 값을 말합니다.\n",
    "\n",
    "\n",
    "__행렬의 덧셈, 뺄셈, 성분곱, 스칼라곱__\n",
    "\n",
    "- 행렬끼리 같은 모양을 가지면 덧셈, 뺄셈을 계산할 수 있습니다.\n",
    "\n",
    "$$\n",
    "X + Y = (x_{ij}+y_{ij})\n",
    "$$\n",
    "\n",
    "- 성분곱은 벡터와 똑같습니다.스칼라곱도 벡터와 차이가 없습니다.\n",
    "\n",
    "$$\n",
    "X \\odot Y = (x_{ij}y_{ij})\n",
    "\\quad\n",
    "aX = (ax_{ij})\n",
    "$$\n",
    "\n",
    "- 행렬 곱셈(matrix multiplication)은 $i$번째 행벡터와 $j$번째 열벡터 사이의 내적을 성분으로 가지는 행렬을 계산합니다.\n",
    "\n",
    "$$\n",
    "XY = (\\sum_{k}x_{ik}y_{kj})\n",
    "$$"
   ]
  },
  {
   "cell_type": "code",
   "execution_count": 2,
   "metadata": {},
   "outputs": [
    {
     "data": {
      "text/plain": [
       "array([[-8,  6],\n",
       "       [ 5,  2],\n",
       "       [-5,  1]])"
      ]
     },
     "execution_count": 2,
     "metadata": {},
     "output_type": "execute_result"
    }
   ],
   "source": [
    "# 행렬 곱셈\n",
    "import numpy as np\n",
    "\n",
    "x = np.array([[1, -2, 3],\n",
    "              [7, 5, 0], \n",
    "              [-2, -1, 2]])\n",
    "y = np.array([[0, 1],\n",
    "            [1, -1],\n",
    "            [-2, 1]])\n",
    "\n",
    "x@y"
   ]
  },
  {
   "cell_type": "markdown",
   "metadata": {},
   "source": [
    "# 행렬도 내적이 있을까?\n",
    "\n",
    "- 넘파이의 np.inner는 $i$번째 행벡터와 $j$번째 행벡터 사이의 내적을 성분으로 가지는 행렬을 계산합니다.\n",
    "- 수학에서 말하는 내적과는 다르므로 주의\n",
    "- X와 Y의 행의 갯수가 같아야함.\n",
    "- 수학에선 보통 $tr(XY^T)$를 내적으로 계산한다."
   ]
  },
  {
   "cell_type": "code",
   "execution_count": 5,
   "metadata": {},
   "outputs": [
    {
     "data": {
      "text/plain": [
       "array([[-8,  6],\n",
       "       [ 5,  2],\n",
       "       [-5,  1]])"
      ]
     },
     "execution_count": 5,
     "metadata": {},
     "output_type": "execute_result"
    }
   ],
   "source": [
    "# 넘파이 내적\n",
    "x = np.array([[1, -2, 3],\n",
    "              [7, 5, 0], \n",
    "              [-2, -1, 2]])\n",
    "y = np.array([[0, 1],\n",
    "            [1, -1],\n",
    "            [-2, 1]])\n",
    "\n",
    "np.inner(x, y.T)"
   ]
  },
  {
   "cell_type": "markdown",
   "metadata": {},
   "source": [
    "__행렬을 이해하는 방법 2__\n",
    "\n",
    "- 행렬은 벡터공간에서 사용되는 연산자(operator)로 이해한다.\n",
    "- 행렬곱을 통해 벡터를 다른 차원의 공간으로 보낼 수있습니다.\n",
    "- 행렬곱을 통해 패턴을 추출할 수 있고 데이터를 압축할 수도 있습니다.\n",
    "- 모든 선형변환(linear transform)은 행렬곱으로 계산할 수 있다.\n",
    "\n",
    "# 역행렬 이해하기\n",
    "\n",
    "- 어떤 행렬 $A$의 연산을 거꾸로 되돌리는 행렬을 역행렬(inverse matrix)이라고 부르고 $A^{-1}$라 표기한다. 역행렬은 행과 열 숫자가 같고 행렬식(determinant)이 0이 아닌 경우에만 계산할 수 있다.\n",
    "\n",
    "$$\n",
    "AA^{-1} = A^{-1}A = I\n",
    "$$"
   ]
  },
  {
   "cell_type": "code",
   "execution_count": 7,
   "metadata": {},
   "outputs": [
    {
     "name": "stdout",
     "output_type": "stream",
     "text": [
      "[[ 0.21276596  0.0212766  -0.31914894]\n",
      " [-0.29787234  0.17021277  0.44680851]\n",
      " [ 0.06382979  0.10638298  0.40425532]]\n",
      "[[ 1.00000000e+00  1.11022302e-16 -1.11022302e-16]\n",
      " [-1.11022302e-16  1.00000000e+00  1.11022302e-16]\n",
      " [-1.11022302e-16  5.55111512e-17  1.00000000e+00]]\n"
     ]
    }
   ],
   "source": [
    "x = np.array([[1, -2, 3],\n",
    "             [7, 5, 0], \n",
    "             [-2, -1, 2]])\n",
    "\n",
    "print(np.linalg.inv(x))\n",
    "print(np.linalg.inv(x)@x)"
   ]
  },
  {
   "cell_type": "markdown",
   "metadata": {},
   "source": [
    "- 만일 역행렬을 계산할 수 없다면 유사역행렬(pseudo-inverse) 또는 무어-펜로즈(Moore-Penrose) 역행렬 $A^+$을 사용한다.\n",
    "\n",
    "$$\n",
    "n >= m 인\\,경우\\quad A^+ = (A^TA)^{-1}A^T \\\\\n",
    "n <= m 인\\,경우\\quad A^+ = A^T(AA^T)^{-1}\n",
    "$$"
   ]
  },
  {
   "cell_type": "code",
   "execution_count": 8,
   "metadata": {},
   "outputs": [
    {
     "name": "stdout",
     "output_type": "stream",
     "text": [
      "[[ 5.00000000e-01  4.09730229e-17 -5.00000000e-01]\n",
      " [ 8.33333333e-01 -3.33333333e-01 -1.66666667e-01]]\n",
      "[[ 1.00000000e+00 -2.22044605e-16]\n",
      " [ 5.55111512e-17  1.00000000e+00]]\n"
     ]
    }
   ],
   "source": [
    "y = np.array([[0, 1],\n",
    "             [1, -1], \n",
    "             [-2, 1]])\n",
    "\n",
    "print(np.linalg.pinv(y))\n",
    "print(np.linalg.pinv(y) @ y)"
   ]
  },
  {
   "cell_type": "markdown",
   "metadata": {},
   "source": [
    "# 응용 1: 연립방정식 풀기\n",
    "\n",
    "- np.linalg.pinv를 이용하면 연립방정식의 해를 구할 수 있다.\n",
    "- 식이 변수 개수보다 작거나 같아야 함\n",
    "\n",
    "$$\n",
    "a_{11}x_1 + a_{12}x_2 + \\dots + a_{1m}x_m = b_1 \\\\\n",
    "a_{21}x_1 + a_{22}x_2 + \\dots + a_{2m}x_m = b_2 \\\\\n",
    "\\vdots \\\\\n",
    "a_{n1}x_1 + a_{n2}x_2 + \\dots + a_{nm}x_m = b_n\n",
    "$$\n",
    "\n",
    "- 이 연립방정식은 행렬을 이용하면 다음과 같이 표현할 수 있다.\n",
    "\n",
    "$$\n",
    "Ax = b \\\\\n",
    "\\\\\n",
    "\\\\\n",
    "x = A^+b = A^T(AA^T)^{-1}b\n",
    "$$\n",
    "\n",
    "# 응용2: 선형회귀분석\n",
    "\n",
    "- np.linalg.pinv를 이용하면 데이터를 선형모델(linear model)로 해석하는 선형회귀식을 찾을 수 있다.\n",
    "\n",
    "- 선형회귀분석은 $X$와 $y$가 주어진 상황에서 계수 $\\beta$를 찾아야 한다.\n",
    "\n",
    "- 선형회귀분석은 연립방정식과 달리 행이 더 크므로 방정식을 푸는 것은 불가능\n",
    "\n",
    "$$\n",
    "X\\beta = y \\\\\n",
    "\\beta = X^+y = (X^TX)^{-1}X^Ty\n",
    "$$\n",
    "\n",
    "- 이 방법을 위해서 선형회귀를 풀기 위해선 y절편(intercept)을 직접 추가해야한다."
   ]
  },
  {
   "cell_type": "code",
   "execution_count": null,
   "metadata": {},
   "outputs": [],
   "source": []
  }
 ],
 "metadata": {
  "kernelspec": {
   "display_name": "Python 3",
   "language": "python",
   "name": "python3"
  },
  "language_info": {
   "codemirror_mode": {
    "name": "ipython",
    "version": 3
   },
   "file_extension": ".py",
   "mimetype": "text/x-python",
   "name": "python",
   "nbconvert_exporter": "python",
   "pygments_lexer": "ipython3",
   "version": "3.7.0"
  }
 },
 "nbformat": 4,
 "nbformat_minor": 2
}
