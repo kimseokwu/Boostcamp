{
 "cells": [
  {
   "cell_type": "markdown",
   "metadata": {},
   "source": [
    "# 미분이 뭔가요?\n",
    "\n",
    "- 미분은 변수의 움직임에 따른 함수값의 변화를 측정하기 위한 도구로 최적화에서 제일 많이 사용하는 기법입니다.\n",
    "\n",
    "- 미분을 손으로 계산하려면 일일이 $h\\to0$극한을 계산해야 합니다.\n",
    "$$\n",
    "f'(x) = \\lim_{h\\to0}\\frac{f(x+h) - f(x)}{h}\n",
    "$$\n",
    "\n",
    "- sympy.diff를 가지고 미분을 컴퓨터로 계산할 수 있습니다."
   ]
  },
  {
   "cell_type": "code",
   "execution_count": 1,
   "metadata": {},
   "outputs": [
    {
     "data": {
      "text/plain": [
       "Poly(2*x + 2, x, domain='ZZ')"
      ]
     },
     "execution_count": 1,
     "metadata": {},
     "output_type": "execute_result"
    }
   ],
   "source": [
    "import sympy as sym\n",
    "from sympy.abc import x\n",
    "\n",
    "sym.diff(sym.poly(x**2 + 2*x + 3), x)"
   ]
  },
  {
   "cell_type": "markdown",
   "metadata": {},
   "source": [
    "# 미분을 그림으로 이해해보자\n",
    "\n",
    "- 미분은 함수$f$의 주어진 점 $(x, f(x))$에서의 접선의 기울기를 구한다.\n",
    "\n",
    "- 한 점에서 접선의 기울기를 알면 어느 방향으로 점을 움직여야 함수값이 __증가하는지 감소하는지__ 알 수 있다.\n",
    "\n",
    "- 증가시키고 싶다면 미분값을 더하고, 감소시켜주고 싶다면 미분값을 뺍니다.\n",
    "\n",
    "# 미분을 어디에 쓸까?\n",
    "\n",
    "- 미분값을 더하면 경사상승법(gradient ascent)이라 하며 함수의 극대값의 위치를 구할 때 사용한다.\n",
    "\n",
    "- 미분값을 빼면 경사하강법(gradient descent)이라 하며 함수의 극소값의 위치를 구할 때 사용한다.\n",
    "\n",
    "- 경사상승/경사하강 방법은 극값에 도달하면 움직임을 멈춘다. (극값에선 미분값이 0이 되므로)\n",
    "\n",
    "# 경사하강법: 알고리즘\n",
    "\n",
    "```\n",
    "# gradient: 미분을 계산하는 함수\n",
    "# init: 시작점, lr:학습률, eps: 알고리즘 종료조건\n",
    "\n",
    "var = init\n",
    "grad = gradient(var)\n",
    "\n",
    "while abs(grad) > eps:\n",
    "    var = var - lr * grad\n",
    "    grad = gradient(var)\n",
    "```\n",
    "\n",
    "# 변수가 벡터이면요?\n",
    "\n",
    "- 벡터가 입력인 다변수 함수의 경우 편미분(partial differentiation)을 사용한다.\n",
    "\n",
    "$$\n",
    "\\partial_{x_i}f(x) = \\lim_{h\\to0}\\frac{f(x+he_i) - f(x)}{h}\\\\\n",
    "e_i는\\, i번째\\, 값만\\, 1이고\\, 나머지는\\, 0인\\, 단위벡터\n",
    "$$\n",
    "\n",
    "\n",
    "$$\n",
    "f(x, y) = x^2 + 2xy + 3 + \\cos(x+2y)\n",
    "\\\\\n",
    "\\partial_xf(x, y) = 2x + 2y -\\sin(x+2y)\n",
    "$$\n",
    "\n",
    "- y변수는 상수취급, 변화시키지 않고 x변수만 변화시켜서 편미분 계산\n",
    "\n",
    "- 각 변수 별로 편미분을 계산한 그래디언트 벡터를 이용하여 경사하강/경사상승법에 사용할 수 있다.\n",
    "$$\n",
    "\\nabla f = (\\partial_{x_1}f, \\partial_{x_2}f, \\dots, \\partial_{x_d}f) \n",
    "$$\n",
    "\n",
    "\n",
    "# 경사하강법: 알고리즘\n",
    "\n",
    "```\n",
    "# gradient: 미분을 계산하는 함수\n",
    "# init: 시작점, lr:학습률, eps: 알고리즘 종료조건\n",
    "\n",
    "var = init\n",
    "grad = gradient(var)\n",
    "\n",
    "while norm(grad) > eps:\n",
    "    var = var - lr * grad\n",
    "    grad = gradient(var)\n",
    "```\n"
   ]
  },
  {
   "cell_type": "code",
   "execution_count": null,
   "metadata": {},
   "outputs": [],
   "source": []
  }
 ],
 "metadata": {
  "kernelspec": {
   "display_name": "Python 3",
   "language": "python",
   "name": "python3"
  },
  "language_info": {
   "codemirror_mode": {
    "name": "ipython",
    "version": 3
   },
   "file_extension": ".py",
   "mimetype": "text/x-python",
   "name": "python",
   "nbconvert_exporter": "python",
   "pygments_lexer": "ipython3",
   "version": "3.7.0"
  }
 },
 "nbformat": 4,
 "nbformat_minor": 2
}
